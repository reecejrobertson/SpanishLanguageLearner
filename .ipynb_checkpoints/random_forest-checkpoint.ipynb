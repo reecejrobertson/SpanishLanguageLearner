{
 "cells": [
  {
   "cell_type": "code",
   "execution_count": 1,
   "metadata": {},
   "outputs": [],
   "source": [
    "import numpy as np\n",
    "import pandas as pd\n",
    "from sklearn.model_selection import GridSearchCV\n",
    "from sklearn.metrics import classification_report\n",
    "from sklearn.ensemble import RandomForestClassifier\n",
    "from sklearn.model_selection import train_test_split"
   ]
  },
  {
   "cell_type": "code",
   "execution_count": 2,
   "metadata": {},
   "outputs": [
    {
     "data": {
      "text/html": [
       "<div>\n",
       "<style scoped>\n",
       "    .dataframe tbody tr th:only-of-type {\n",
       "        vertical-align: middle;\n",
       "    }\n",
       "\n",
       "    .dataframe tbody tr th {\n",
       "        vertical-align: top;\n",
       "    }\n",
       "\n",
       "    .dataframe thead th {\n",
       "        text-align: right;\n",
       "    }\n",
       "</style>\n",
       "<table border=\"1\" class=\"dataframe\">\n",
       "  <thead>\n",
       "    <tr style=\"text-align: right;\">\n",
       "      <th></th>\n",
       "      <th>user_id</th>\n",
       "      <th>concept_id</th>\n",
       "      <th>starred</th>\n",
       "      <th>mistaken</th>\n",
       "      <th>words_studied</th>\n",
       "    </tr>\n",
       "  </thead>\n",
       "  <tbody>\n",
       "    <tr>\n",
       "      <th>0</th>\n",
       "      <td>3391866971749096</td>\n",
       "      <td>476</td>\n",
       "      <td>False</td>\n",
       "      <td>False</td>\n",
       "      <td>3</td>\n",
       "    </tr>\n",
       "    <tr>\n",
       "      <th>1</th>\n",
       "      <td>3391866971749096</td>\n",
       "      <td>2395</td>\n",
       "      <td>True</td>\n",
       "      <td>False</td>\n",
       "      <td>17</td>\n",
       "    </tr>\n",
       "    <tr>\n",
       "      <th>2</th>\n",
       "      <td>3391866971749096</td>\n",
       "      <td>2044</td>\n",
       "      <td>False</td>\n",
       "      <td>False</td>\n",
       "      <td>18</td>\n",
       "    </tr>\n",
       "    <tr>\n",
       "      <th>3</th>\n",
       "      <td>3391866971749096</td>\n",
       "      <td>1989</td>\n",
       "      <td>False</td>\n",
       "      <td>False</td>\n",
       "      <td>32</td>\n",
       "    </tr>\n",
       "    <tr>\n",
       "      <th>4</th>\n",
       "      <td>3391866971749096</td>\n",
       "      <td>56392</td>\n",
       "      <td>False</td>\n",
       "      <td>False</td>\n",
       "      <td>5</td>\n",
       "    </tr>\n",
       "    <tr>\n",
       "      <th>...</th>\n",
       "      <td>...</td>\n",
       "      <td>...</td>\n",
       "      <td>...</td>\n",
       "      <td>...</td>\n",
       "      <td>...</td>\n",
       "    </tr>\n",
       "    <tr>\n",
       "      <th>1993280</th>\n",
       "      <td>3839423983477931</td>\n",
       "      <td>4204</td>\n",
       "      <td>True</td>\n",
       "      <td>False</td>\n",
       "      <td>2</td>\n",
       "    </tr>\n",
       "    <tr>\n",
       "      <th>1993281</th>\n",
       "      <td>3839423983477931</td>\n",
       "      <td>4218</td>\n",
       "      <td>False</td>\n",
       "      <td>False</td>\n",
       "      <td>1</td>\n",
       "    </tr>\n",
       "    <tr>\n",
       "      <th>1993282</th>\n",
       "      <td>3839423983477931</td>\n",
       "      <td>6264</td>\n",
       "      <td>False</td>\n",
       "      <td>False</td>\n",
       "      <td>6</td>\n",
       "    </tr>\n",
       "    <tr>\n",
       "      <th>1993283</th>\n",
       "      <td>3839423983477931</td>\n",
       "      <td>2992</td>\n",
       "      <td>False</td>\n",
       "      <td>False</td>\n",
       "      <td>7</td>\n",
       "    </tr>\n",
       "    <tr>\n",
       "      <th>1993284</th>\n",
       "      <td>3839423983477931</td>\n",
       "      <td>6176</td>\n",
       "      <td>False</td>\n",
       "      <td>False</td>\n",
       "      <td>8</td>\n",
       "    </tr>\n",
       "  </tbody>\n",
       "</table>\n",
       "<p>1993285 rows × 5 columns</p>\n",
       "</div>"
      ],
      "text/plain": [
       "                  user_id  concept_id  starred  mistaken  words_studied\n",
       "0        3391866971749096         476    False     False              3\n",
       "1        3391866971749096        2395     True     False             17\n",
       "2        3391866971749096        2044    False     False             18\n",
       "3        3391866971749096        1989    False     False             32\n",
       "4        3391866971749096       56392    False     False              5\n",
       "...                   ...         ...      ...       ...            ...\n",
       "1993280  3839423983477931        4204     True     False              2\n",
       "1993281  3839423983477931        4218    False     False              1\n",
       "1993282  3839423983477931        6264    False     False              6\n",
       "1993283  3839423983477931        2992    False     False              7\n",
       "1993284  3839423983477931        6176    False     False              8\n",
       "\n",
       "[1993285 rows x 5 columns]"
      ]
     },
     "execution_count": 2,
     "metadata": {},
     "output_type": "execute_result"
    }
   ],
   "source": [
    "# Read in the data, remove the unnecessary columns, and display the data.\n",
    "data = pd.read_csv('Vol3StarredData.csv')\n",
    "data.drop(columns=['Unnamed: 0', 'updated_timestamp', 'prioritized'], inplace=True)\n",
    "data"
   ]
  },
  {
   "cell_type": "code",
   "execution_count": 3,
   "metadata": {},
   "outputs": [],
   "source": [
    "# Cast the user IDs to ints for faster processing.\n",
    "data['user_id'] = data['user_id'].astype(np.int64)\n",
    "data['concept_id'] = data['concept_id'].astype(np.int64)"
   ]
  },
  {
   "cell_type": "code",
   "execution_count": 4,
   "metadata": {},
   "outputs": [],
   "source": [
    "# Extract the training features and the label (using starred as the label).\n",
    "X = data.drop(columns='starred')\n",
    "y = data['starred']\n",
    "\n",
    "# Generate a train-test split.\n",
    "X_train, X_test, y_train, y_test = train_test_split(X, y, test_size=0.3)"
   ]
  },
  {
   "cell_type": "code",
   "execution_count": 5,
   "metadata": {},
   "outputs": [
    {
     "name": "stdout",
     "output_type": "stream",
     "text": [
      "              precision    recall  f1-score   support\n",
      "\n",
      "       False       0.92      0.99      0.96    540981\n",
      "        True       0.78      0.22      0.34     57005\n",
      "\n",
      "    accuracy                           0.92    597986\n",
      "   macro avg       0.85      0.61      0.65    597986\n",
      "weighted avg       0.91      0.92      0.90    597986\n",
      "\n"
     ]
    }
   ],
   "source": [
    "# Create and Random Forest Classifier and fit it to the training data.\n",
    "rfc = RandomForestClassifier()\n",
    "rfc.fit(X_train, y_train)\n",
    "\n",
    "# Predict on the testing data.\n",
    "predicted = rfc.predict(X_test)\n",
    "\n",
    "# Print the classification report\n",
    "print(classification_report(y_test, predicted))"
   ]
  },
  {
   "cell_type": "code",
   "execution_count": 8,
   "metadata": {},
   "outputs": [
    {
     "name": "stdout",
     "output_type": "stream",
     "text": [
      "              precision    recall  f1-score   support\n",
      "\n",
      "       False       0.91      0.97      0.94    541131\n",
      "        True       0.16      0.06      0.08     56855\n",
      "\n",
      "    accuracy                           0.88    597986\n",
      "   macro avg       0.53      0.51      0.51    597986\n",
      "weighted avg       0.84      0.88      0.86    597986\n",
      "\n"
     ]
    }
   ],
   "source": [
    "# Drop user id.\n",
    "X.drop(columns='user_id', inplace=True)\n",
    "\n",
    "# Generate a train-test split.\n",
    "X_train, X_test, y_train, y_test = train_test_split(X, y, test_size=0.3)\n",
    "\n",
    "# Create and Random Forest Classifier and fit it to the training data.\n",
    "rfc = RandomForestClassifier()\n",
    "rfc.fit(X_train, y_train)\n",
    "\n",
    "# Predict on the testing data.\n",
    "predicted = rfc.predict(X_test)\n",
    "\n",
    "# Print the classification report\n",
    "print(classification_report(y_test, predicted))"
   ]
  }
 ],
 "metadata": {
  "interpreter": {
   "hash": "5eb68a48e29e152e025f867c1d7c98b8bbea850c19dcdd55ec2ecec0f79d9b55"
  },
  "kernelspec": {
   "display_name": "Python 3 (ipykernel)",
   "language": "python",
   "name": "python3"
  },
  "language_info": {
   "codemirror_mode": {
    "name": "ipython",
    "version": 3
   },
   "file_extension": ".py",
   "mimetype": "text/x-python",
   "name": "python",
   "nbconvert_exporter": "python",
   "pygments_lexer": "ipython3",
   "version": "3.8.11"
  }
 },
 "nbformat": 4,
 "nbformat_minor": 2
}
